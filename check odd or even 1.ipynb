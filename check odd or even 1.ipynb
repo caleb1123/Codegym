{
 "cells": [
  {
   "cell_type": "code",
   "execution_count": 20,
   "id": "3571c30d",
   "metadata": {},
   "outputs": [
    {
     "name": "stdout",
     "output_type": "stream",
     "text": [
      "Enter the number:0\n",
      "Not Odd or Even number\n"
     ]
    }
   ],
   "source": [
    "number=int(input(\"Enter the number:\"))\n",
    "if number % 2 == 0 & number!=0 :\n",
    "    print(\"Even number\")\n",
    "elif number % 2 != 0:\n",
    "    print(\"Odd number\")\n",
    "else :\n",
    "    print(\"Not Odd or Even number\")"
   ]
  }
 ],
 "metadata": {
  "kernelspec": {
   "display_name": "Python 3 (ipykernel)",
   "language": "python",
   "name": "python3"
  },
  "language_info": {
   "codemirror_mode": {
    "name": "ipython",
    "version": 3
   },
   "file_extension": ".py",
   "mimetype": "text/x-python",
   "name": "python",
   "nbconvert_exporter": "python",
   "pygments_lexer": "ipython3",
   "version": "3.9.12"
  }
 },
 "nbformat": 4,
 "nbformat_minor": 5
}
